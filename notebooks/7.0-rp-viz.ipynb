{
 "cells": [
  {
   "cell_type": "code",
   "execution_count": null,
   "metadata": {},
   "outputs": [],
   "source": [
    "%load_ext autoreload\n",
    "%autoreload 2"
   ]
  },
  {
   "cell_type": "code",
   "execution_count": null,
   "metadata": {},
   "outputs": [],
   "source": [
    "import matplotlib.pyplot as plt\n",
    "import pandas as pd\n",
    "import xarray as xr\n",
    "\n",
    "from segysak import open_seisnc\n",
    "\n",
    "from src.definitions import ROOT_DIR\n",
    "from src.data import make_sua_surfaces"
   ]
  },
  {
   "cell_type": "code",
   "execution_count": null,
   "metadata": {},
   "outputs": [],
   "source": [
    "# %matplotlib ipympl"
   ]
  },
  {
   "attachments": {},
   "cell_type": "markdown",
   "metadata": {},
   "source": [
    "# Load seismic"
   ]
  },
  {
   "cell_type": "code",
   "execution_count": null,
   "metadata": {},
   "outputs": [],
   "source": [
    "# Downloaded files directory\n",
    "dst_dir = ROOT_DIR / \"data\"\n",
    "seisnc_path = dst_dir / \"interim/R3136_15UnrPrDMkD_Full_D_Rzn_RMO_Shp_vG.seisnc\""
   ]
  },
  {
   "cell_type": "code",
   "execution_count": null,
   "metadata": {},
   "outputs": [],
   "source": [
    "seisnc = open_seisnc(seisnc_path, chunks={\"inline\": 100})"
   ]
  },
  {
   "attachments": {},
   "cell_type": "markdown",
   "metadata": {},
   "source": [
    "# Load regional surfaces"
   ]
  },
  {
   "cell_type": "code",
   "execution_count": null,
   "metadata": {},
   "outputs": [],
   "source": [
    "surface_names = [\"ns_b\", \"ck_b\", \"rnro1_t\", \"ze_t\", \"ro_t\"]"
   ]
  },
  {
   "cell_type": "code",
   "execution_count": null,
   "metadata": {},
   "outputs": [],
   "source": [
    "surfaces = {\n",
    "    surface_name: make_sua_surfaces.load_mapped_horizon(surface_name)\n",
    "    for surface_name in surface_names\n",
    "}"
   ]
  },
  {
   "attachments": {},
   "cell_type": "markdown",
   "metadata": {},
   "source": [
    "# Load summary surfaces"
   ]
  },
  {
   "cell_type": "code",
   "execution_count": null,
   "metadata": {},
   "outputs": [],
   "source": [
    "dst_dir = ROOT_DIR / \"data/processed/summary\"\n",
    "dst = dst_dir / \"quantiles.nc\""
   ]
  },
  {
   "cell_type": "code",
   "execution_count": null,
   "metadata": {},
   "outputs": [],
   "source": [
    "quantiles = xr.open_dataarray(dst)"
   ]
  },
  {
   "cell_type": "markdown",
   "metadata": {},
   "source": [
    "# Plot surfaces"
   ]
  },
  {
   "attachments": {},
   "cell_type": "markdown",
   "metadata": {},
   "source": [
    "## Figure 1"
   ]
  },
  {
   "cell_type": "code",
   "execution_count": null,
   "metadata": {},
   "outputs": [],
   "source": [
    "inl_sel = 9100\n",
    "xline_range = slice(7570, 9600)\n",
    "depth_slice = slice(0, 4000)"
   ]
  },
  {
   "cell_type": "code",
   "execution_count": null,
   "metadata": {},
   "outputs": [],
   "source": [
    "opt = dict(\n",
    "    x=\"xline\",\n",
    "    y=\"depth\",\n",
    "    add_colorbar=True,\n",
    "    interpolation=\"spline16\",\n",
    "    robust=True,\n",
    "    yincrease=False,\n",
    "    cmap=\"Greys\",\n",
    ")\n",
    "\n",
    "f, ax = plt.subplots(figsize=(16, 10), constrained_layout=True)\n",
    "\n",
    "seisnc.data.sel(\n",
    "    iline=inl_sel,\n",
    "    xline=xline_range,\n",
    "    depth=depth_slice,\n",
    "    ).plot.imshow(ax=ax, **opt)\n",
    "\n",
    "for surface_name, surface in surfaces.items():\n",
    "    trace = surface.sel(iline=inl_sel, xline=xline_range)\n",
    "    ax.plot(trace.xline, trace.values, label=surface_name)\n",
    "\n",
    "for q in quantiles[\"quantile\"]:\n",
    "    q = q.values\n",
    "    quantile_trace = quantiles.sel(\n",
    "        iline=inl_sel,\n",
    "        xline=xline_range,\n",
    "        quantile=q\n",
    "    )\n",
    "    ax.plot(\n",
    "        quantile_trace.xline,\n",
    "        quantile_trace.values,\n",
    "        label=f\"RO T P{q*100:.0f}\"\n",
    "    )\n",
    "\n",
    "ax.invert_xaxis()"
   ]
  },
  {
   "attachments": {},
   "cell_type": "markdown",
   "metadata": {},
   "source": [
    "## Figure 2"
   ]
  },
  {
   "cell_type": "code",
   "execution_count": null,
   "metadata": {},
   "outputs": [],
   "source": [
    "from src.visualization.visualize import save_fig_inline_with_regional_and_summary_surfaces"
   ]
  },
  {
   "cell_type": "code",
   "execution_count": null,
   "metadata": {},
   "outputs": [],
   "source": [
    "inl_sel = 9100\n",
    "xline_min = 7800\n",
    "xline_max = 8200\n",
    "depth_min = 0\n",
    "depth_max = 3500"
   ]
  },
  {
   "cell_type": "code",
   "execution_count": null,
   "metadata": {},
   "outputs": [],
   "source": [
    "save_fig_inline_with_regional_and_summary_surfaces(\n",
    "    filename=\"Zoomed_inline_9100.png\",\n",
    "    inl_sel=inl_sel,\n",
    "    xline_min=xline_min,\n",
    "    xline_max=xline_max,\n",
    "    depth_min=depth_min,\n",
    "    depth_max=depth_max,\n",
    "    regional_surfaces=[\"ns_b\", \"ck_b\", \"rnro1_t\", \"ro_t\"],\n",
    "    quantile_surfaces=[],\n",
    ")"
   ]
  },
  {
   "cell_type": "code",
   "execution_count": null,
   "metadata": {},
   "outputs": [],
   "source": []
  }
 ],
 "metadata": {
  "kernelspec": {
   "display_name": "gsh_py_gp",
   "language": "python",
   "name": "python3"
  },
  "language_info": {
   "codemirror_mode": {
    "name": "ipython",
    "version": 3
   },
   "file_extension": ".py",
   "mimetype": "text/x-python",
   "name": "python",
   "nbconvert_exporter": "python",
   "pygments_lexer": "ipython3",
   "version": "3.10.9"
  },
  "orig_nbformat": 4
 },
 "nbformat": 4,
 "nbformat_minor": 2
}
