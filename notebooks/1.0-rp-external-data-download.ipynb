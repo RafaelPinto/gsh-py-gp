{
 "cells": [
  {
   "cell_type": "code",
   "execution_count": null,
   "metadata": {},
   "outputs": [],
   "source": [
    "%load_ext autoreload\n",
    "%autoreload 2"
   ]
  },
  {
   "cell_type": "code",
   "execution_count": null,
   "metadata": {},
   "outputs": [],
   "source": [
    "import os\n",
    "from src.definitions import ROOT_DIR"
   ]
  },
  {
   "cell_type": "code",
   "execution_count": null,
   "metadata": {},
   "outputs": [],
   "source": [
    "files_to_download = [\n",
    "    \"groningen/README.txt\",\n",
    "    \"groningen/FILENAMES.txt\",\n",
    "    \"groningen/Horizon_Interpretation/RO____T\",\n",
    "    \"groningen/Horizon_Interpretation/RO____T.crsmeta.xml\",\n",
    "]"
   ]
  },
  {
   "cell_type": "code",
   "execution_count": null,
   "metadata": {},
   "outputs": [],
   "source": [
    "dst_dir = ROOT_DIR / \"data/external/\""
   ]
  },
  {
   "cell_type": "code",
   "execution_count": null,
   "metadata": {},
   "outputs": [],
   "source": [
    "for filepath in files_to_download:\n",
    "    fullpath = dst_dir / filepath\n",
    "    parent_dir = fullpath.parent\n",
    "    if not parent_dir.is_dir():\n",
    "        parent_dir.mkdir(parents=True)"
   ]
  }
 ],
 "metadata": {
  "kernelspec": {
   "display_name": "Python 3.10.8 ('gsh_py_gp')",
   "language": "python",
   "name": "python3"
  },
  "language_info": {
   "codemirror_mode": {
    "name": "ipython",
    "version": 3
   },
   "file_extension": ".py",
   "mimetype": "text/x-python",
   "name": "python",
   "nbconvert_exporter": "python",
   "pygments_lexer": "ipython3",
   "version": "3.10.8"
  },
  "orig_nbformat": 4,
  "vscode": {
   "interpreter": {
    "hash": "70e19cd8c169d0340c6f787ec28c59d9885709b90300ed2cb01467324362c98d"
   }
  }
 },
 "nbformat": 4,
 "nbformat_minor": 2
}
