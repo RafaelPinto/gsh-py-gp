{
 "cells": [
  {
   "cell_type": "code",
   "execution_count": null,
   "metadata": {},
   "outputs": [],
   "source": [
    "%load_ext autoreload\n",
    "%autoreload 2"
   ]
  },
  {
   "cell_type": "code",
   "execution_count": null,
   "metadata": {},
   "outputs": [],
   "source": [
    "import numpy as np\n",
    "import matplotlib.pyplot as plt\n",
    "import pandas as pd\n",
    "\n",
    "from src.definitions import ROOT_DIR\n",
    "from src.data.utils import download_from_groningen, head, line_count\n",
    "from src.data.quality import check_grid_spacing\n",
    "from src.visualization.visualize import (\n",
    "    index_depth,\n",
    "    get_meshes_from_gridded_surface_pointset,\n",
    "    plot_cartesian_gridded_surface\n",
    ")"
   ]
  },
  {
   "attachments": {},
   "cell_type": "markdown",
   "metadata": {},
   "source": [
    "# The Groningen field\n",
    "\n",
    "In this section, we present some of the relevant and interesting facts of the Groningen gas field, extracted from the field's geologic overview by de Jager and Visser (2017). The Groningen field data is vast, but we can use this information to find the files needed for our study. \n",
    "\n",
    "The Groningen gas field was discovered in 1959 by the Slochteren-1 well. This well primary target was to test the gas trend in the Basal Zechstein carbonates, which resulted in tight basinal facies. However, the underlying Rotliegend sandstones unexpectedly found a large volume of gas. The initial recoverable gas reserves are estimated at 2900 bcm (~100 TCF). Additional field information is summarized in table 1.\n",
    "\n",
    "Table 1: Groningen field summary.\n",
    "|               | Description |\n",
    "| ------------- | ----------- |\n",
    "| **Structure** | Faulted anticline (4-way). The closure formed during the late Triassic or Jurassic. The primary faults have normal displacement and trend NNW–SSE. Secondary fault trends run E-W and N-S. |\n",
    "| **Seal** | The top seal consists of carbonates and anhydrites layers from the Zechstein Formation. Laterally, the gas accumulation is mainly constrained by faults. |\n",
    "| **Source** | Main source rocks (Carboniferous age) are the underlying and juxtaposed Westphalian Coal Measures and the basal Namurian organic shales. The primary expulsion event occurred during the Late Jurassic - Early Cretaceous. |\n",
    "| **Reservoir** | Upper Permian Rotliegend reworked aeolian and fluvial sediments. High degree of sorting. Porosity ranges from 10-24 %, and permiability from 1-1000 mD. Three facies: Sandstones, conglomerates, and mudstones. |\n",
    "| **FWL** | Changes by fault block, from 2972-3016 m TVNAP (NAM, 2016).|\n",
    "\n",
    "\n",
    "# The Groningen data\n",
    "\n",
    "In 2020, Nederlandse Aardolie Maatschappij (NAM) released the Groningen gas field geological model throught the Utrecht University data publication platform under a CC BY 4.0 license. These data consists of well logs, seismic horizons, a PSDM seismic cube, and the field's geocellular model, all embedded in a Petrel project. In the same year, Data Underground (2020) forked NAM's project, and made most of its data accessible in common sharing formats (CSV, LAS, SEGY, etc.). In this work, we access the data in the Data Underground repository.\n",
    "\n",
    "The first step in our workflow is to download the data that we will use to recreate the seismic uncertainty analysis (SUA) surfaces. The typical result of a SUA is a set of P10-P50-P90 values that describe the in-place rock volume distribution of a reservoir, based on multiple iterations of the target's structural top which are derived from equiprobable imaging velocity models.\n",
    "\n",
    "In our case, we are interested in creating multiple iterations of the reservoir structural top, so we should be looking for horizons and well tops that correspond to the Rotliegend, in addition to any other information (images, reports, README files) that will help us understand the data. \n",
    "\n",
    "\n",
    "# Data download\n",
    "\n",
    "The data files are hosted on an Amazon's S3 bucket and can be downloaded by requesting a URL with the base repository location plus a given file name. The base repository location is\n",
    "\n",
    "`https://swung-hosted.s3.ca-central-1.amazonaws.com/`\n",
    "\n",
    "By reading the [Data Underground](https://dataunderground.org/dataset/groningen-open-fork/resource/20fb48a1-5ed4-4a11-8f6a-ff0a7746c58a?inner_span=True) fork we find that there is a file named `groningen/FILENAMES.txt` that lists the names of the files stored on the data repository. We can use this file name list to select the files to download.\n",
    "\n",
    "For convenience, we added the function `download_from_groningen`, that does the URL building and requesting for us. Let's use it to dowload `groningen/FILENAMES.txt`"
   ]
  },
  {
   "cell_type": "code",
   "execution_count": null,
   "metadata": {},
   "outputs": [],
   "source": [
    "# List with the file names to download\n",
    "files_to_download = [\"groningen/FILENAMES.txt\"]\n",
    "\n",
    "# Local place to save the downloaded files\n",
    "dst_dir = ROOT_DIR / \"data/external/\""
   ]
  },
  {
   "cell_type": "code",
   "execution_count": null,
   "metadata": {},
   "outputs": [],
   "source": [
    "download_from_groningen(files_to_download, dst_dir, overwrite=False)"
   ]
  },
  {
   "attachments": {},
   "cell_type": "markdown",
   "metadata": {},
   "source": [
    "If all ran without errors, there should be a new file under `<project_dir>/groningen/FILENAMES.txt`.\n",
    "\n",
    "We can open this text file to explore all of its content, looking for data useful to our study, that is, the top reservoir surface, well tops, and any pictures."
   ]
  },
  {
   "cell_type": "code",
   "execution_count": null,
   "metadata": {},
   "outputs": [],
   "source": [
    "# List with the file names to download\n",
    "files_to_download = [\n",
    "    \"groningen/README.txt\",\n",
    "    \"groningen/FILENAMES.txt\",\n",
    "    \"groningen/Horizon_Interpretation/RO____T\",\n",
    "    \"groningen/Horizon_Interpretation/RO____T.crsmeta.xml\",\n",
    "    \"groningen/Formation_tops/Groningen__Formation_tops__EPSG_28992.csv\",\n",
    "    \"groningen/3DGrid/3D_Grid_Export_settings.PNG\",\n",
    "    \"groningen/3DGrid/3D_Grid_Horizon_order.png\",\n",
    "]"
   ]
  },
  {
   "cell_type": "code",
   "execution_count": null,
   "metadata": {},
   "outputs": [],
   "source": [
    "download_from_groningen(files_to_download, dst_dir, overwrite=False)"
   ]
  },
  {
   "attachments": {},
   "cell_type": "markdown",
   "metadata": {},
   "source": [
    "\n",
    "\n"
   ]
  },
  {
   "cell_type": "markdown",
   "metadata": {},
   "source": [
    "![Static model horizon order](../data/external/groningen/3DGrid/3D_Grid_Horizon_order.png)"
   ]
  },
  {
   "attachments": {},
   "cell_type": "markdown",
   "metadata": {},
   "source": [
    "# Top of Top Rotliegend (Permian)"
   ]
  },
  {
   "cell_type": "code",
   "execution_count": null,
   "metadata": {},
   "outputs": [],
   "source": [
    "interp_RO_T_path = dst_dir / files_to_download[2]\n",
    "\n",
    "line_count(interp_RO_T_path)"
   ]
  },
  {
   "cell_type": "code",
   "execution_count": null,
   "metadata": {},
   "outputs": [],
   "source": [
    "head(interp_RO_T_path)"
   ]
  },
  {
   "cell_type": "code",
   "execution_count": null,
   "metadata": {},
   "outputs": [],
   "source": [
    "col_names = [\"inline\", \"xline\", \"easting\", \"northing\", \"depth\"]\n",
    "ro_t = pd.read_csv(interp_RO_T_path, sep=r\"\\s+\", header=None, names=col_names)"
   ]
  },
  {
   "cell_type": "code",
   "execution_count": null,
   "metadata": {},
   "outputs": [],
   "source": [
    "ro_t.info()"
   ]
  },
  {
   "cell_type": "code",
   "execution_count": null,
   "metadata": {},
   "outputs": [],
   "source": [
    "unique_northing = check_grid_spacing(ro_t.northing)"
   ]
  },
  {
   "cell_type": "code",
   "execution_count": null,
   "metadata": {},
   "outputs": [],
   "source": [
    "unique_northing_diff_mask = np.diff(unique_northing) != 50\n",
    "\n",
    "unique_northing_off_values =  unique_northing[:-1][unique_northing_diff_mask]"
   ]
  },
  {
   "cell_type": "code",
   "execution_count": null,
   "metadata": {},
   "outputs": [],
   "source": [
    "unique_easting = check_grid_spacing(ro_t.easting)"
   ]
  },
  {
   "cell_type": "code",
   "execution_count": null,
   "metadata": {},
   "outputs": [],
   "source": [
    "unique_easting_diff_mask = np.diff(unique_easting) != 50\n",
    "unique_easting_off_values =  unique_easting[:-1][unique_easting_diff_mask]"
   ]
  },
  {
   "cell_type": "code",
   "execution_count": null,
   "metadata": {},
   "outputs": [],
   "source": [
    "vmin = ro_t.northing.min()\n",
    "vmax = ro_t.northing.max()\n",
    "xmin = ro_t.easting.min()\n",
    "xmax = ro_t.easting.max()"
   ]
  },
  {
   "cell_type": "code",
   "execution_count": null,
   "metadata": {},
   "outputs": [],
   "source": [
    "title = \"Top Rotliegend\"\n",
    "fig, ax = plot_cartesian_gridded_surface(ro_t, title=title)\n",
    "ax.hlines(unique_northing_off_values,xmin=xmin, xmax=xmax)\n",
    "ax.vlines(unique_easting_off_values, ymin=vmin, ymax=vmax)\n",
    "plt.show()"
   ]
  },
  {
   "attachments": {},
   "cell_type": "markdown",
   "metadata": {},
   "source": [
    "<img src=\"https://static.cambridge.org/binary/version/id/urn:cambridge.org:id:binary:20180220025359001-0895:S0016774617000245:S0016774617000245_fig1g.jpeg\"  width=\"40%\" height=\"40%\">"
   ]
  },
  {
   "cell_type": "code",
   "execution_count": null,
   "metadata": {},
   "outputs": [],
   "source": [
    "title = \"Top Rotliegend\"\n",
    "plot_cartesian_gridded_surface(ro_t, title=title)\n",
    "plt.show()"
   ]
  },
  {
   "cell_type": "code",
   "execution_count": null,
   "metadata": {},
   "outputs": [],
   "source": []
  }
 ],
 "metadata": {
  "kernelspec": {
   "display_name": "Python 3.10.8 ('gsh_py_gp')",
   "language": "python",
   "name": "python3"
  },
  "language_info": {
   "codemirror_mode": {
    "name": "ipython",
    "version": 3
   },
   "file_extension": ".py",
   "mimetype": "text/x-python",
   "name": "python",
   "nbconvert_exporter": "python",
   "pygments_lexer": "ipython3",
   "version": "3.10.8"
  },
  "orig_nbformat": 4,
  "vscode": {
   "interpreter": {
    "hash": "70e19cd8c169d0340c6f787ec28c59d9885709b90300ed2cb01467324362c98d"
   }
  }
 },
 "nbformat": 4,
 "nbformat_minor": 2
}
