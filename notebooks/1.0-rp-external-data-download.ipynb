{
 "cells": [
  {
   "cell_type": "code",
   "execution_count": null,
   "metadata": {},
   "outputs": [],
   "source": [
    "%load_ext autoreload\n",
    "%autoreload 2"
   ]
  },
  {
   "cell_type": "code",
   "execution_count": null,
   "metadata": {},
   "outputs": [],
   "source": [
    "import os\n",
    "import requests\n",
    "\n",
    "import matplotlib.pyplot as plt\n",
    "import pandas as pd\n",
    "\n",
    "from src.definitions import ROOT_DIR\n",
    "from src.data.utils import download_from_groningen, head, line_count\n",
    "from src.visualization.visualize import plot_cartesian_depth_points"
   ]
  },
  {
   "attachments": {},
   "cell_type": "markdown",
   "metadata": {},
   "source": [
    "# Source\n",
    "NAM (2020). Petrel geological model of the Groningen gas field, the Netherlands. Open access through EPOS-NL. Yoda data publication platform Utrecht University. DOI 10.24416/UU01-1QH0MW.\n",
    "\n",
    "https://public.yoda.uu.nl/geo/UU01/1QH0MW.html\n",
    "\n",
    "\n",
    "M Kortekaas & B Jaarsma (2017). Improved definition of faults in the Groningen field using seismic attributes. Netherlands Journal of Geosciences — Geologie en Mijnbouw 96 (5), p 71–85, 2017 DOI 10.1017/njg.2017.24.\n",
    "\n",
    "https://www.cambridge.org/core/journals/netherlands-journal-of-geosciences/article/improved-definition-of-faults-in-the-groningen-field-using-seismic-attributes/554FE576A50E25A8219D261D6BF270A1#article\n",
    "\n",
    "\n",
    "# Fork\n",
    "\n",
    "https://agilescientific.com/blog/2020/12/7/big-new-almost-open-data\n",
    "\n",
    "https://dataunderground.org/dataset/groningen-open-fork/resource/20fb48a1-5ed4-4a11-8f6a-ff0a7746c58a\n",
    "\n",
    "# Geology\n",
    "\n",
    "https://www.cambridge.org/core/services/aop-cambridge-core/content/view/9947C006B646623624ADF30D3C6C8CC5/S0016774617000221a.pdf/geology-of-the-groningen-field-an-overview.pdf"
   ]
  },
  {
   "cell_type": "code",
   "execution_count": null,
   "metadata": {},
   "outputs": [],
   "source": [
    "files_to_download = [\n",
    "    \"groningen/README.txt\",\n",
    "    \"groningen/FILENAMES.txt\",\n",
    "    \"groningen/Horizon_Interpretation/RO____T\",\n",
    "    \"groningen/Horizon_Interpretation/RO____T.crsmeta.xml\",\n",
    "    \"groningen/Formation_tops/Groningen__Formation_tops__EPSG_28992.csv\",\n",
    "    \"groningen/3DGrid/3D_Grid_Export_settings.PNG\",\n",
    "    \"groningen/3DGrid/3D_Grid_Horizon_order.png\",\n",
    "]"
   ]
  },
  {
   "cell_type": "code",
   "execution_count": null,
   "metadata": {},
   "outputs": [],
   "source": [
    "dst_dir = ROOT_DIR / \"data/external/\""
   ]
  },
  {
   "cell_type": "code",
   "execution_count": null,
   "metadata": {},
   "outputs": [],
   "source": [
    "download_from_groningen(files_to_download, dst_dir, overwrite=False)"
   ]
  },
  {
   "cell_type": "markdown",
   "metadata": {},
   "source": [
    "![Static model horizon order](../data/external/groningen/3DGrid/3D_Grid_Horizon_order.png)"
   ]
  },
  {
   "attachments": {},
   "cell_type": "markdown",
   "metadata": {},
   "source": [
    "# Top of Top Rotliegend (Permian)"
   ]
  },
  {
   "cell_type": "code",
   "execution_count": null,
   "metadata": {},
   "outputs": [],
   "source": [
    "interp_RO_T_path = dst_dir / files_to_download[2]\n",
    "\n",
    "line_count(interp_RO_T_path)"
   ]
  },
  {
   "cell_type": "code",
   "execution_count": null,
   "metadata": {},
   "outputs": [],
   "source": [
    "\n",
    "head(interp_RO_T_path)"
   ]
  },
  {
   "cell_type": "code",
   "execution_count": null,
   "metadata": {},
   "outputs": [],
   "source": [
    "col_names = [\"inline\", \"xline\", \"easting\", \"northing\", \"depth\"]\n",
    "ro_t = pd.read_csv(interp_RO_T_path, sep=r\"\\s+\", header=None, names=col_names)"
   ]
  },
  {
   "cell_type": "code",
   "execution_count": null,
   "metadata": {},
   "outputs": [],
   "source": [
    "title = \"Top Rotliegend\"\n",
    "plot_cartesian_depth_points(ro_t, title=title)\n",
    "plt.show()"
   ]
  },
  {
   "attachments": {},
   "cell_type": "markdown",
   "metadata": {},
   "source": [
    "<img src=\"https://static.cambridge.org/binary/version/id/urn:cambridge.org:id:binary:20180220025359001-0895:S0016774617000245:S0016774617000245_fig1g.jpeg\"  width=\"40%\" height=\"40%\">"
   ]
  },
  {
   "cell_type": "code",
   "execution_count": null,
   "metadata": {},
   "outputs": [],
   "source": []
  }
 ],
 "metadata": {
  "kernelspec": {
   "display_name": "Python 3.10.8 ('gsh_py_gp')",
   "language": "python",
   "name": "python3"
  },
  "language_info": {
   "codemirror_mode": {
    "name": "ipython",
    "version": 3
   },
   "file_extension": ".py",
   "mimetype": "text/x-python",
   "name": "python",
   "nbconvert_exporter": "python",
   "pygments_lexer": "ipython3",
   "version": "3.10.8"
  },
  "orig_nbformat": 4,
  "vscode": {
   "interpreter": {
    "hash": "70e19cd8c169d0340c6f787ec28c59d9885709b90300ed2cb01467324362c98d"
   }
  }
 },
 "nbformat": 4,
 "nbformat_minor": 2
}
