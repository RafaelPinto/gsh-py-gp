{
 "cells": [
  {
   "cell_type": "code",
   "execution_count": null,
   "metadata": {},
   "outputs": [],
   "source": [
    "%load_ext autoreload\n",
    "%autoreload 2"
   ]
  },
  {
   "cell_type": "code",
   "execution_count": null,
   "metadata": {},
   "outputs": [],
   "source": [
    "import numpy as np\n",
    "import matplotlib.pyplot as plt\n",
    "import pandas as pd\n",
    "\n",
    "from src.definitions import ROOT_DIR\n",
    "from src.data.utils import head, line_count\n",
    "\n",
    "from src.visualization.visualize import plot_cartesian_gridded_surface"
   ]
  },
  {
   "cell_type": "code",
   "execution_count": null,
   "metadata": {},
   "outputs": [],
   "source": [
    "%matplotlib ipympl"
   ]
  },
  {
   "cell_type": "code",
   "execution_count": null,
   "metadata": {},
   "outputs": [],
   "source": [
    "# Downloaded files directory\n",
    "dst_dir = ROOT_DIR / \"data/external/\"\n",
    "\n",
    "well_tops_path = dst_dir / \"groningen/Formation_tops/Groningen__Formation_tops__EPSG_28992.csv\""
   ]
  },
  {
   "cell_type": "code",
   "execution_count": null,
   "metadata": {},
   "outputs": [],
   "source": [
    "head(well_tops_path)"
   ]
  },
  {
   "cell_type": "code",
   "execution_count": null,
   "metadata": {},
   "outputs": [],
   "source": [
    "line_count(well_tops_path)"
   ]
  },
  {
   "cell_type": "code",
   "execution_count": null,
   "metadata": {},
   "outputs": [],
   "source": [
    "well_tops = pd.read_csv(well_tops_path)"
   ]
  },
  {
   "cell_type": "code",
   "execution_count": null,
   "metadata": {},
   "outputs": [],
   "source": [
    "is_ro_top = well_tops[\"Surface\"] == \"RO____T\"\n",
    "ro_well_tops = well_tops.loc[is_ro_top, :]"
   ]
  },
  {
   "cell_type": "code",
   "execution_count": null,
   "metadata": {},
   "outputs": [],
   "source": [
    "np.sum(~ro_well_tops[\"TWT auto\"].isna())"
   ]
  },
  {
   "cell_type": "code",
   "execution_count": null,
   "metadata": {},
   "outputs": [],
   "source": [
    "ro_well_tops = ro_well_tops.rename(columns={\"X\": \"easting\", \"Y\": \"northing\", \"Z\": \"depth\"})"
   ]
  },
  {
   "cell_type": "code",
   "execution_count": null,
   "metadata": {},
   "outputs": [],
   "source": [
    "interp_RO_T_path = dst_dir / \"groningen/Horizon_Interpretation/RO____T\"\n",
    "col_names = [\"inline\", \"xline\", \"easting\", \"northing\", \"depth\"]\n",
    "ro_t = pd.read_csv(interp_RO_T_path, sep=r\"\\s+\", header=None, names=col_names)"
   ]
  },
  {
   "cell_type": "code",
   "execution_count": null,
   "metadata": {},
   "outputs": [],
   "source": [
    "ro_t[\"depth\"] = -ro_t[\"depth\"]"
   ]
  },
  {
   "cell_type": "code",
   "execution_count": null,
   "metadata": {},
   "outputs": [],
   "source": [
    "title = \"Top Rotliegend with well tops\"\n",
    "fig, ax = plt.subplots(figsize=(14, 14))\n",
    "\n",
    "im = plot_cartesian_gridded_surface(\n",
    "    ro_t,\n",
    "    ax=ax,\n",
    "    title=title,\n",
    "    cmap=\"viridis\",\n",
    "    vmin=-3000,\n",
    "    vmax=-2500,\n",
    "    alpha=1\n",
    "    )\n",
    "\n",
    "scatter = ax.scatter(\n",
    "    ro_well_tops.easting,\n",
    "    ro_well_tops.northing,\n",
    "    c=ro_well_tops.depth,\n",
    "    cmap=\"viridis\",\n",
    "    vmin=-3000,\n",
    "    vmax=-2500,\n",
    "    alpha=1,\n",
    "    edgecolors=\"red\"\n",
    "    )\n",
    "plt.show()"
   ]
  },
  {
   "cell_type": "code",
   "execution_count": null,
   "metadata": {},
   "outputs": [],
   "source": []
  }
 ],
 "metadata": {
  "kernelspec": {
   "display_name": "gsh_py_gp",
   "language": "python",
   "name": "python3"
  },
  "language_info": {
   "codemirror_mode": {
    "name": "ipython",
    "version": 3
   },
   "file_extension": ".py",
   "mimetype": "text/x-python",
   "name": "python",
   "nbconvert_exporter": "python",
   "pygments_lexer": "ipython3",
   "version": "3.10.9"
  },
  "orig_nbformat": 4
 },
 "nbformat": 4,
 "nbformat_minor": 2
}
