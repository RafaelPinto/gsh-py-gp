{
 "cells": [
  {
   "cell_type": "code",
   "execution_count": null,
   "metadata": {},
   "outputs": [],
   "source": [
    "%load_ext autoreload\n",
    "%autoreload 2"
   ]
  },
  {
   "cell_type": "code",
   "execution_count": null,
   "metadata": {},
   "outputs": [],
   "source": [
    "import matplotlib.pyplot as plt\n",
    "import pandas as pd\n",
    "import xarray as xr\n",
    "\n",
    "from segysak import open_seisnc\n",
    "\n",
    "from src.definitions import ROOT_DIR\n",
    "from src.data import make_sua_surfaces"
   ]
  },
  {
   "cell_type": "code",
   "execution_count": null,
   "metadata": {},
   "outputs": [],
   "source": [
    "%matplotlib ipympl"
   ]
  },
  {
   "attachments": {},
   "cell_type": "markdown",
   "metadata": {},
   "source": [
    "# Load seismic"
   ]
  },
  {
   "cell_type": "code",
   "execution_count": null,
   "metadata": {},
   "outputs": [],
   "source": [
    "# Downloaded files directory\n",
    "dst_dir = ROOT_DIR / \"data\"\n",
    "seisnc_path = dst_dir / \"interim/R3136_15UnrPrDMkD_Full_D_Rzn_RMO_Shp_vG.seisnc\""
   ]
  },
  {
   "cell_type": "code",
   "execution_count": null,
   "metadata": {},
   "outputs": [],
   "source": [
    "seisnc = open_seisnc(seisnc_path, chunks={\"inline\": 100})"
   ]
  },
  {
   "attachments": {},
   "cell_type": "markdown",
   "metadata": {},
   "source": [
    "# Load Top of Salt"
   ]
  },
  {
   "cell_type": "code",
   "execution_count": null,
   "metadata": {},
   "outputs": [],
   "source": [
    "rnro1_t = make_sua_surfaces.load_mapped_horizon(\"rnro1_t\")"
   ]
  },
  {
   "attachments": {},
   "cell_type": "markdown",
   "metadata": {},
   "source": [
    "# Load surfaces"
   ]
  },
  {
   "cell_type": "code",
   "execution_count": null,
   "metadata": {},
   "outputs": [],
   "source": [
    "surfaces = xr.open_mfdataset(\n",
    "    str(ROOT_DIR / \"data/processed/surfaces/*.nc\"),\n",
    "    combine=\"nested\",\n",
    "    concat_dim=\"anhydrite_perc\",\n",
    "    parallel=True,\n",
    "    chunks={\"anhydrite_perc\": -1},\n",
    ")"
   ]
  },
  {
   "cell_type": "code",
   "execution_count": null,
   "metadata": {},
   "outputs": [],
   "source": [
    "surfaces = surfaces.set_xindex(coord_names=\"perc\")"
   ]
  },
  {
   "cell_type": "code",
   "execution_count": null,
   "metadata": {},
   "outputs": [],
   "source": [
    "surfaces"
   ]
  },
  {
   "attachments": {},
   "cell_type": "markdown",
   "metadata": {},
   "source": [
    "# Get P10 and P90 surfaces"
   ]
  },
  {
   "cell_type": "code",
   "execution_count": null,
   "metadata": {},
   "outputs": [],
   "source": [
    "dst_dir = ROOT_DIR / \"data/processed/summary\"\n",
    "dst = dst_dir / \"quantiles.nc\""
   ]
  },
  {
   "cell_type": "code",
   "execution_count": null,
   "metadata": {},
   "outputs": [],
   "source": [
    "if not dst.exists():\n",
    "    dst_dir.mkdir(parents=True, exist_ok=True)\n",
    "    quantiles = surfaces.depth.quantile([0.1, 0.25, 0.5, 0.75, 0.9], dim=\"anhydrite_perc\")\n",
    "    quantiles.to_netcdf(dst)"
   ]
  },
  {
   "cell_type": "code",
   "execution_count": null,
   "metadata": {},
   "outputs": [],
   "source": [
    "quantiles = xr.open_dataarray(dst)  "
   ]
  },
  {
   "cell_type": "code",
   "execution_count": null,
   "metadata": {},
   "outputs": [],
   "source": [
    "quantiles"
   ]
  },
  {
   "cell_type": "code",
   "execution_count": null,
   "metadata": {},
   "outputs": [],
   "source": [
    "inl_sel = 9100"
   ]
  },
  {
   "cell_type": "code",
   "execution_count": null,
   "metadata": {},
   "outputs": [],
   "source": [
    "opt = dict(\n",
    "    x=\"xline\",\n",
    "    y=\"depth\",\n",
    "    add_colorbar=True,\n",
    "    interpolation=\"spline16\",\n",
    "    robust=True,\n",
    "    yincrease=False,\n",
    "    cmap=\"Greys\",\n",
    ")\n",
    "\n",
    "f, ax = plt.subplots(figsize=(16, 10), constrained_layout=True)\n",
    "\n",
    "seisnc.data.sel(iline=inl_sel, depth=slice(000, 6000)).plot.imshow(ax=ax, **opt)\n",
    "\n",
    "rnro1_t_trace = rnro1_t.sel(iline=inl_sel)\n",
    "ax.plot(rnro1_t_trace.xline, rnro1_t_trace.values, label=\"RNRO1_T\")\n",
    "\n",
    "for q in quantiles[\"quantile\"]:\n",
    "    q = q.values\n",
    "    quantile_trace = quantiles.sel(iline=inl_sel, quantile=q)\n",
    "    ax.plot(quantile_trace.xline, quantile_trace.values, label=f\"P{q*100:.0f}\")\n",
    "\n",
    "ax.invert_xaxis()\n",
    "f.suptitle(\"RO T surfaces summary\")\n",
    "f.legend(loc='lower center', ncol=9, bbox_to_anchor=(0.5, 0.05))"
   ]
  },
  {
   "cell_type": "code",
   "execution_count": null,
   "metadata": {},
   "outputs": [],
   "source": []
  }
 ],
 "metadata": {
  "kernelspec": {
   "display_name": "gsh_py_gp",
   "language": "python",
   "name": "python3"
  },
  "language_info": {
   "codemirror_mode": {
    "name": "ipython",
    "version": 3
   },
   "file_extension": ".py",
   "mimetype": "text/x-python",
   "name": "python",
   "nbconvert_exporter": "python",
   "pygments_lexer": "ipython3",
   "version": "3.10.9"
  },
  "orig_nbformat": 4
 },
 "nbformat": 4,
 "nbformat_minor": 2
}
