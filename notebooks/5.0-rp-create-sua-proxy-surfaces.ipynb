{
 "cells": [
  {
   "cell_type": "code",
   "execution_count": null,
   "metadata": {},
   "outputs": [],
   "source": [
    "%load_ext autoreload\n",
    "%autoreload 2"
   ]
  },
  {
   "cell_type": "code",
   "execution_count": null,
   "metadata": {},
   "outputs": [],
   "source": [
    "import matplotlib.pyplot as plt\n",
    "import pandas as pd\n",
    "import xarray as xr\n",
    "\n",
    "from segysak import open_seisnc\n",
    "\n",
    "from src.definitions import ROOT_DIR\n",
    "from src.data import make_sua_surfaces"
   ]
  },
  {
   "cell_type": "code",
   "execution_count": null,
   "metadata": {},
   "outputs": [],
   "source": [
    "%matplotlib ipympl"
   ]
  },
  {
   "attachments": {},
   "cell_type": "markdown",
   "metadata": {},
   "source": [
    "# Load seismic"
   ]
  },
  {
   "cell_type": "code",
   "execution_count": null,
   "metadata": {},
   "outputs": [],
   "source": [
    "# Downloaded files directory\n",
    "dst_dir = ROOT_DIR / \"data\"\n",
    "seisnc_path = dst_dir / \"interim/R3136_15UnrPrDMkD_Full_D_Rzn_RMO_Shp_vG.seisnc\""
   ]
  },
  {
   "cell_type": "code",
   "execution_count": null,
   "metadata": {},
   "outputs": [],
   "source": [
    "seisnc = open_seisnc(seisnc_path, chunks={\"inline\": 100})"
   ]
  },
  {
   "attachments": {},
   "cell_type": "markdown",
   "metadata": {},
   "source": [
    "# Load horizons"
   ]
  },
  {
   "cell_type": "code",
   "execution_count": null,
   "metadata": {},
   "outputs": [],
   "source": [
    "rnro1_t = make_sua_surfaces.load_mapped_horizon(\"rnro1_t\")\n",
    "ro_t = make_sua_surfaces.load_mapped_horizon(\"ro_t\")"
   ]
  },
  {
   "attachments": {},
   "cell_type": "markdown",
   "metadata": {},
   "source": [
    "# Get Salt isochore"
   ]
  },
  {
   "cell_type": "code",
   "execution_count": null,
   "metadata": {},
   "outputs": [],
   "source": [
    "salt_isochore = ro_t - rnro1_t"
   ]
  },
  {
   "cell_type": "code",
   "execution_count": null,
   "metadata": {},
   "outputs": [],
   "source": [
    "salt_isochore"
   ]
  },
  {
   "cell_type": "code",
   "execution_count": null,
   "metadata": {},
   "outputs": [],
   "source": [
    "inl_sel = 9100"
   ]
  },
  {
   "cell_type": "code",
   "execution_count": null,
   "metadata": {},
   "outputs": [],
   "source": [
    "f, ax = plt.subplots(figsize=(14, 14))\n",
    "pp = ax.pcolormesh(salt_isochore.cdp_x, salt_isochore.cdp_y, salt_isochore.values, cmap=\"viridis\")\n",
    "f.colorbar(pp, label=\"Thickness [m]\")\n",
    "ax.axis(\"equal\")\n",
    "ax.set_title(\"Salt isochore\")\n",
    "\n",
    "# Plot selected inline\n",
    "selected_inline = seisnc.data.sel(iline=inl_sel)\n",
    "ax.plot(\n",
    "    selected_inline.cdp_x,\n",
    "    selected_inline.cdp_y,\n",
    "    color=\"blue\",\n",
    "    label=f\"Inline: {inl_sel}\"\n",
    ")\n",
    "ax.axis(\"equal\")\n",
    "ax.legend()"
   ]
  },
  {
   "attachments": {},
   "cell_type": "markdown",
   "metadata": {},
   "source": [
    "# Get reference isochrone"
   ]
  },
  {
   "cell_type": "code",
   "execution_count": null,
   "metadata": {},
   "outputs": [],
   "source": [
    "halite_vp = 4400 # m/s\n",
    "anhydrite_vp = 5900 # m/s\n",
    "\n",
    "anhydrite_perc = 0.2\n",
    "salt_vp_reference = (halite_vp*(1-anhydrite_perc) + anhydrite_vp*anhydrite_perc) "
   ]
  },
  {
   "cell_type": "code",
   "execution_count": null,
   "metadata": {},
   "outputs": [],
   "source": [
    "salt_vp_reference"
   ]
  },
  {
   "cell_type": "code",
   "execution_count": null,
   "metadata": {},
   "outputs": [],
   "source": [
    "salt_isochrone_reference = salt_isochore / salt_vp_reference # seconds"
   ]
  },
  {
   "attachments": {},
   "cell_type": "markdown",
   "metadata": {},
   "source": [
    "# Update velocity"
   ]
  },
  {
   "cell_type": "code",
   "execution_count": null,
   "metadata": {},
   "outputs": [],
   "source": [
    "anhydrite_perc = 0.05\n",
    "salt_vp_update = (halite_vp*(1-anhydrite_perc) + anhydrite_vp*anhydrite_perc)"
   ]
  },
  {
   "cell_type": "code",
   "execution_count": null,
   "metadata": {},
   "outputs": [],
   "source": [
    "salt_vp_update"
   ]
  },
  {
   "attachments": {},
   "cell_type": "markdown",
   "metadata": {},
   "source": [
    "# Update target horizon"
   ]
  },
  {
   "cell_type": "code",
   "execution_count": null,
   "metadata": {},
   "outputs": [],
   "source": [
    "ro_t_update = rnro1_t + salt_isochrone_reference * salt_vp_update"
   ]
  },
  {
   "cell_type": "code",
   "execution_count": null,
   "metadata": {},
   "outputs": [],
   "source": [
    "opt = dict(\n",
    "    x=\"xline\",\n",
    "    y=\"depth\",\n",
    "    add_colorbar=True,\n",
    "    interpolation=\"spline16\",\n",
    "    robust=True,\n",
    "    yincrease=False,\n",
    "    cmap=\"Greys\",\n",
    ")\n",
    "\n",
    "f, ax = plt.subplots(figsize=(16, 10), constrained_layout=True)\n",
    "\n",
    "seisnc.data.sel(iline=inl_sel, depth=slice(000, 6000)).plot.imshow(ax=ax, **opt)\n",
    "\n",
    "ro_t_trace = ro_t.sel(iline=inl_sel)\n",
    "ax.plot(ro_t_trace.xline, ro_t_trace.values, label=\"RO_T\")\n",
    "\n",
    "rnro1_t_trace = rnro1_t.sel(iline=inl_sel)\n",
    "ax.plot(rnro1_t_trace.xline, rnro1_t_trace.values, label=\"RNRO1_T\")\n",
    "\n",
    "ro_t_update_trace = ro_t_update.sel(iline=inl_sel)\n",
    "ax.plot(ro_t_update_trace.xline, ro_t_update_trace.values, label=\"RO_T_update\")\n",
    "\n",
    "ax.invert_xaxis()\n",
    "f.legend(bbox_to_anchor=(0.8, 0.95), bbox_transform=f.transFigure)"
   ]
  },
  {
   "attachments": {},
   "cell_type": "markdown",
   "metadata": {},
   "source": [
    "# Build all SUA proxy surfaces"
   ]
  },
  {
   "cell_type": "code",
   "execution_count": null,
   "metadata": {},
   "outputs": [],
   "source": [
    "make_sua_surfaces.main()"
   ]
  },
  {
   "attachments": {},
   "cell_type": "markdown",
   "metadata": {},
   "source": [
    "# Plot surfaces"
   ]
  },
  {
   "cell_type": "code",
   "execution_count": null,
   "metadata": {},
   "outputs": [],
   "source": [
    "surfaces = xr.open_mfdataset(\n",
    "    str(ROOT_DIR / \"data/processed/surfaces/*.nc\"),\n",
    "    combine=\"nested\",\n",
    "    concat_dim=\"anhydrite_perc\",\n",
    "    parallel=True\n",
    ")"
   ]
  },
  {
   "cell_type": "code",
   "execution_count": null,
   "metadata": {},
   "outputs": [],
   "source": [
    "surfaces"
   ]
  },
  {
   "cell_type": "code",
   "execution_count": null,
   "metadata": {},
   "outputs": [],
   "source": [
    "surfaces = surfaces.set_xindex(coord_names=\"perc\")"
   ]
  },
  {
   "cell_type": "code",
   "execution_count": null,
   "metadata": {},
   "outputs": [],
   "source": [
    "anhydrite_perc_sel = 0.05\n",
    "surfaces_anhy_5perc = surfaces.sel(perc=anhydrite_perc_sel)"
   ]
  },
  {
   "cell_type": "code",
   "execution_count": null,
   "metadata": {},
   "outputs": [],
   "source": [
    "f, ax = plt.subplots(figsize=(14, 14))\n",
    "pp = ax.pcolormesh(\n",
    "    surfaces_anhy_5perc.cdp_x,\n",
    "    surfaces_anhy_5perc.cdp_y,\n",
    "    surfaces_anhy_5perc.depth,\n",
    "    cmap=\"viridis_r\"\n",
    ")\n",
    "f.colorbar(pp, label=\"Depth [m]\")\n",
    "ax.axis(\"equal\")\n",
    "ax.set_title(f\"RO T structure update: Anhydrite percent: {anhydrite_perc_sel}\")\n",
    "plt.show()"
   ]
  },
  {
   "cell_type": "code",
   "execution_count": null,
   "metadata": {},
   "outputs": [],
   "source": [
    "opt = dict(\n",
    "    x=\"xline\",\n",
    "    y=\"depth\",\n",
    "    add_colorbar=True,\n",
    "    interpolation=\"spline16\",\n",
    "    robust=True,\n",
    "    yincrease=False,\n",
    "    cmap=\"Greys\",\n",
    ")\n",
    "\n",
    "f, ax = plt.subplots(figsize=(16, 10), constrained_layout=True)\n",
    "\n",
    "seisnc.data.sel(iline=inl_sel, depth=slice(0, 6000)).plot.imshow(ax=ax, **opt)\n",
    "\n",
    "for perc in surfaces.perc.values:\n",
    "    trace = surfaces.sel(perc=perc, iline=inl_sel)\n",
    "    label = f\"{perc:.2f}\"\n",
    "    ax.plot(\n",
    "        trace.xline,\n",
    "        trace.depth,\n",
    "        label=label)\n",
    "\n",
    "ax.invert_xaxis()\n",
    "f.suptitle(\"Updated RO T surfaces\")\n",
    "f.legend(loc='lower center', ncol=9, bbox_to_anchor=(0.5, 0.05))"
   ]
  },
  {
   "cell_type": "code",
   "execution_count": null,
   "metadata": {},
   "outputs": [],
   "source": []
  }
 ],
 "metadata": {
  "kernelspec": {
   "display_name": "gsh_py_gp",
   "language": "python",
   "name": "python3"
  },
  "language_info": {
   "codemirror_mode": {
    "name": "ipython",
    "version": 3
   },
   "file_extension": ".py",
   "mimetype": "text/x-python",
   "name": "python",
   "nbconvert_exporter": "python",
   "pygments_lexer": "ipython3",
   "version": "3.10.9"
  },
  "orig_nbformat": 4
 },
 "nbformat": 4,
 "nbformat_minor": 2
}
